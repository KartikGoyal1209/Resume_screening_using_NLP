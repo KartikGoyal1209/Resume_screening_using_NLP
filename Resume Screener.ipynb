{
 "cells": [
  {
   "cell_type": "code",
   "execution_count": 3,
   "id": "8fedaf23-58cf-4094-8b3e-b6528a7346ef",
   "metadata": {},
   "outputs": [],
   "source": [
    "import pandas as pd\n",
    "import numpy as np\n",
    "import matplotlib.pyplot as plt\n",
    "import seaborn as sns"
   ]
  },
  {
   "cell_type": "code",
   "execution_count": 4,
   "id": "39443741-41a2-4885-9527-52b219a5c720",
   "metadata": {},
   "outputs": [],
   "source": [
    "df=pd.read_csv(\"UpdatedResumeDataSet.csv\")\n"
   ]
  },
  {
   "cell_type": "code",
   "execution_count": 5,
   "id": "8ee137b7-c939-467c-bfef-1c148d2922ac",
   "metadata": {},
   "outputs": [
    {
     "data": {
      "text/html": [
       "<div>\n",
       "<style scoped>\n",
       "    .dataframe tbody tr th:only-of-type {\n",
       "        vertical-align: middle;\n",
       "    }\n",
       "\n",
       "    .dataframe tbody tr th {\n",
       "        vertical-align: top;\n",
       "    }\n",
       "\n",
       "    .dataframe thead th {\n",
       "        text-align: right;\n",
       "    }\n",
       "</style>\n",
       "<table border=\"1\" class=\"dataframe\">\n",
       "  <thead>\n",
       "    <tr style=\"text-align: right;\">\n",
       "      <th></th>\n",
       "      <th>Category</th>\n",
       "      <th>Resume</th>\n",
       "    </tr>\n",
       "  </thead>\n",
       "  <tbody>\n",
       "    <tr>\n",
       "      <th>682</th>\n",
       "      <td>PMO</td>\n",
       "      <td>CORE COMPETENCIES â¢ Maintain processes to en...</td>\n",
       "    </tr>\n",
       "    <tr>\n",
       "      <th>211</th>\n",
       "      <td>Mechanical Engineer</td>\n",
       "      <td>SKILLS: â¢ Knowledge of software / computer: ...</td>\n",
       "    </tr>\n",
       "    <tr>\n",
       "      <th>437</th>\n",
       "      <td>SAP Developer</td>\n",
       "      <td>Skills: â¢ ETL â¢ Data Warehousing â¢ SQL/P...</td>\n",
       "    </tr>\n",
       "    <tr>\n",
       "      <th>356</th>\n",
       "      <td>Java Developer</td>\n",
       "      <td>Computer Skills: Languages And Script: JSP, Se...</td>\n",
       "    </tr>\n",
       "    <tr>\n",
       "      <th>29</th>\n",
       "      <td>Data Science</td>\n",
       "      <td>Expertise â Data and Quantitative Analysis â...</td>\n",
       "    </tr>\n",
       "    <tr>\n",
       "      <th>166</th>\n",
       "      <td>Web Designing</td>\n",
       "      <td>Education Details \\r\\n B.C.A Bachelor Computer...</td>\n",
       "    </tr>\n",
       "    <tr>\n",
       "      <th>83</th>\n",
       "      <td>HR</td>\n",
       "      <td>SOFTWARE SKILLS: â¢ General Computer Proficie...</td>\n",
       "    </tr>\n",
       "    <tr>\n",
       "      <th>4</th>\n",
       "      <td>Data Science</td>\n",
       "      <td>Education Details \\r\\n MCA   YMCAUST,  Faridab...</td>\n",
       "    </tr>\n",
       "    <tr>\n",
       "      <th>629</th>\n",
       "      <td>DevOps Engineer</td>\n",
       "      <td>CORE COMPETENCIES ~ Ant ~ Maven ~ GIT ~ Bitbuc...</td>\n",
       "    </tr>\n",
       "    <tr>\n",
       "      <th>961</th>\n",
       "      <td>Testing</td>\n",
       "      <td>Skill Set OS Windows XP/7/8/8.1/10 Database MY...</td>\n",
       "    </tr>\n",
       "  </tbody>\n",
       "</table>\n",
       "</div>"
      ],
      "text/plain": [
       "                Category                                             Resume\n",
       "682                  PMO  CORE COMPETENCIES â¢ Maintain processes to en...\n",
       "211  Mechanical Engineer  SKILLS: â¢ Knowledge of software / computer: ...\n",
       "437        SAP Developer  Skills: â¢ ETL â¢ Data Warehousing â¢ SQL/P...\n",
       "356       Java Developer  Computer Skills: Languages And Script: JSP, Se...\n",
       "29          Data Science  Expertise â Data and Quantitative Analysis â...\n",
       "166        Web Designing  Education Details \\r\\n B.C.A Bachelor Computer...\n",
       "83                    HR  SOFTWARE SKILLS: â¢ General Computer Proficie...\n",
       "4           Data Science  Education Details \\r\\n MCA   YMCAUST,  Faridab...\n",
       "629      DevOps Engineer  CORE COMPETENCIES ~ Ant ~ Maven ~ GIT ~ Bitbuc...\n",
       "961              Testing  Skill Set OS Windows XP/7/8/8.1/10 Database MY..."
      ]
     },
     "execution_count": 5,
     "metadata": {},
     "output_type": "execute_result"
    }
   ],
   "source": [
    "df.sample(10)"
   ]
  },
  {
   "cell_type": "code",
   "execution_count": 6,
   "id": "36d628ba-b7db-4074-8901-64a98d36834d",
   "metadata": {},
   "outputs": [
    {
     "data": {
      "text/plain": [
       "(962, 2)"
      ]
     },
     "execution_count": 6,
     "metadata": {},
     "output_type": "execute_result"
    }
   ],
   "source": [
    "df.shape"
   ]
  },
  {
   "cell_type": "code",
   "execution_count": 8,
   "id": "94790a16-3952-4ce7-b916-41c2b5f4aaf1",
   "metadata": {},
   "outputs": [
    {
     "data": {
      "text/plain": [
       "Category\n",
       "Java Developer               84\n",
       "Testing                      70\n",
       "DevOps Engineer              55\n",
       "Python Developer             48\n",
       "Web Designing                45\n",
       "HR                           44\n",
       "Hadoop                       42\n",
       "Blockchain                   40\n",
       "ETL Developer                40\n",
       "Operations Manager           40\n",
       "Data Science                 40\n",
       "Sales                        40\n",
       "Mechanical Engineer          40\n",
       "Arts                         36\n",
       "Database                     33\n",
       "Electrical Engineering       30\n",
       "Health and fitness           30\n",
       "PMO                          30\n",
       "Business Analyst             28\n",
       "DotNet Developer             28\n",
       "Automation Testing           26\n",
       "Network Security Engineer    25\n",
       "SAP Developer                24\n",
       "Civil Engineer               24\n",
       "Advocate                     20\n",
       "Name: count, dtype: int64"
      ]
     },
     "execution_count": 8,
     "metadata": {},
     "output_type": "execute_result"
    }
   ],
   "source": [
    "df[\"Category\"].value_counts()"
   ]
  },
  {
   "cell_type": "code",
   "execution_count": 7,
   "id": "cdab0f60-6af4-4db6-9466-ea490a93bc28",
   "metadata": {},
   "outputs": [
    {
     "data": {
      "text/plain": [
       "<Axes: xlabel='Category'>"
      ]
     },
     "execution_count": 7,
     "metadata": {},
     "output_type": "execute_result"
    },
    {
     "data": {
      "image/png": "[encoded data removed]",
      "text/plain": [
       "<Figure size 640x480 with 1 Axes>"
      ]
     },
     "metadata": {},
     "output_type": "display_data"
    }
   ],
   "source": [
    "df[\"Category\"].value_counts().plot(kind='bar')"
   ]
  },
  {
   "cell_type": "code",
   "execution_count": 10,
   "id": "9a1ad204-7b81-4a8d-aa8d-e7a6465c561d",
   "metadata": {},
   "outputs": [
    {
     "data": {
      "text/plain": [
       "<Axes: ylabel='count'>"
      ]
     },
     "execution_count": 10,
     "metadata": {},
     "output_type": "execute_result"
    },
    {
     "data": {
      "image/png": "[encoded data removed]",
      "text/plain": [
       "<Figure size 640x480 with 1 Axes>"
      ]
     },
     "metadata": {},
     "output_type": "display_data"
    }
   ],
   "source": [
    "df[\"Category\"].value_counts().plot(kind='pie',autopct='%1.1f%%')"
   ]
  },
  {
   "cell_type": "code",
   "execution_count": 11,
   "id": "1f5108cc-cb18-445a-983f-69e01b07bee9",
   "metadata": {},
   "outputs": [
    {
     "name": "stdout",
     "output_type": "stream",
     "text": [
      "<class 'pandas.core.frame.DataFrame'>\n",
      "RangeIndex: 962 entries, 0 to 961\n",
      "Data columns (total 2 columns):\n",
      " #   Column    Non-Null Count  Dtype \n",
      "---  ------    --------------  ----- \n",
      " 0   Category  962 non-null    object\n",
      " 1   Resume    962 non-null    object\n",
      "dtypes: object(2)\n",
      "memory usage: 15.2+ KB\n"
     ]
    }
   ],
   "source": [
    "df.info()"
   ]
  },
  {
   "cell_type": "code",
   "execution_count": 12,
   "id": "b283550e-c78b-4265-851a-7a75dabe39fc",
   "metadata": {},
   "outputs": [
    {
     "data": {
      "text/html": [
       "<div>\n",
       "<style scoped>\n",
       "    .dataframe tbody tr th:only-of-type {\n",
       "        vertical-align: middle;\n",
       "    }\n",
       "\n",
       "    .dataframe tbody tr th {\n",
       "        vertical-align: top;\n",
       "    }\n",
       "\n",
       "    .dataframe thead th {\n",
       "        text-align: right;\n",
       "    }\n",
       "</style>\n",
       "<table border=\"1\" class=\"dataframe\">\n",
       "  <thead>\n",
       "    <tr style=\"text-align: right;\">\n",
       "      <th></th>\n",
       "      <th>Category</th>\n",
       "      <th>Resume</th>\n",
       "    </tr>\n",
       "  </thead>\n",
       "  <tbody>\n",
       "    <tr>\n",
       "      <th>0</th>\n",
       "      <td>Data Science</td>\n",
       "      <td>Skills * Programming Languages: Python (pandas...</td>\n",
       "    </tr>\n",
       "    <tr>\n",
       "      <th>1</th>\n",
       "      <td>Data Science</td>\n",
       "      <td>Education Details \\r\\nMay 2013 to May 2017 B.E...</td>\n",
       "    </tr>\n",
       "    <tr>\n",
       "      <th>2</th>\n",
       "      <td>Data Science</td>\n",
       "      <td>Areas of Interest Deep Learning, Control Syste...</td>\n",
       "    </tr>\n",
       "    <tr>\n",
       "      <th>3</th>\n",
       "      <td>Data Science</td>\n",
       "      <td>Skills â¢ R â¢ Python â¢ SAP HANA â¢ Table...</td>\n",
       "    </tr>\n",
       "    <tr>\n",
       "      <th>4</th>\n",
       "      <td>Data Science</td>\n",
       "      <td>Education Details \\r\\n MCA   YMCAUST,  Faridab...</td>\n",
       "    </tr>\n",
       "    <tr>\n",
       "      <th>...</th>\n",
       "      <td>...</td>\n",
       "      <td>...</td>\n",
       "    </tr>\n",
       "    <tr>\n",
       "      <th>957</th>\n",
       "      <td>Testing</td>\n",
       "      <td>Computer Skills: â¢ Proficient in MS office (...</td>\n",
       "    </tr>\n",
       "    <tr>\n",
       "      <th>958</th>\n",
       "      <td>Testing</td>\n",
       "      <td>â Willingness to accept the challenges. â ...</td>\n",
       "    </tr>\n",
       "    <tr>\n",
       "      <th>959</th>\n",
       "      <td>Testing</td>\n",
       "      <td>PERSONAL SKILLS â¢ Quick learner, â¢ Eagerne...</td>\n",
       "    </tr>\n",
       "    <tr>\n",
       "      <th>960</th>\n",
       "      <td>Testing</td>\n",
       "      <td>COMPUTER SKILLS &amp; SOFTWARE KNOWLEDGE MS-Power ...</td>\n",
       "    </tr>\n",
       "    <tr>\n",
       "      <th>961</th>\n",
       "      <td>Testing</td>\n",
       "      <td>Skill Set OS Windows XP/7/8/8.1/10 Database MY...</td>\n",
       "    </tr>\n",
       "  </tbody>\n",
       "</table>\n",
       "<p>962 rows × 2 columns</p>\n",
       "</div>"
      ],
      "text/plain": [
       "         Category                                             Resume\n",
       "0    Data Science  Skills * Programming Languages: Python (pandas...\n",
       "1    Data Science  Education Details \\r\\nMay 2013 to May 2017 B.E...\n",
       "2    Data Science  Areas of Interest Deep Learning, Control Syste...\n",
       "3    Data Science  Skills â¢ R â¢ Python â¢ SAP HANA â¢ Table...\n",
       "4    Data Science  Education Details \\r\\n MCA   YMCAUST,  Faridab...\n",
       "..            ...                                                ...\n",
       "957       Testing  Computer Skills: â¢ Proficient in MS office (...\n",
       "958       Testing  â Willingness to accept the challenges. â ...\n",
       "959       Testing  PERSONAL SKILLS â¢ Quick learner, â¢ Eagerne...\n",
       "960       Testing  COMPUTER SKILLS & SOFTWARE KNOWLEDGE MS-Power ...\n",
       "961       Testing  Skill Set OS Windows XP/7/8/8.1/10 Database MY...\n",
       "\n",
       "[962 rows x 2 columns]"
      ]
     },
     "execution_count": 12,
     "metadata": {},
     "output_type": "execute_result"
    }
   ],
   "source": [
    "df"
   ]
  },
  {
   "cell_type": "markdown",
   "id": "b3ef508a-83c0-43d7-ba2a-bd7e00ff3f01",
   "metadata": {},
   "source": [
    "<h2>Data Cleaning</h2>\n",
    "\n",
    "1. Hashtags\n",
    "2. html\n",
    "3. urls\n",
    "4. mentions\n",
    "5. special letters\n",
    "6. punctuations"
   ]
  },
  {
   "cell_type": "code",
   "execution_count": 13,
   "id": "d4104b76-a29f-4678-b930-8febaf6decc2",
   "metadata": {},
   "outputs": [
    {
     "name": "stderr",
     "output_type": "stream",
     "text": [
      "<>:3: SyntaxWarning: invalid escape sequence '\\S'\n",
      "<>:5: SyntaxWarning: invalid escape sequence '\\S'\n",
      "<>:6: SyntaxWarning: invalid escape sequence '\\S'\n",
      "<>:7: SyntaxWarning: invalid escape sequence '\\]'\n",
      "<>:9: SyntaxWarning: invalid escape sequence '\\s'\n",
      "<>:3: SyntaxWarning: invalid escape sequence '\\S'\n",
      "<>:5: SyntaxWarning: invalid escape sequence '\\S'\n",
      "<>:6: SyntaxWarning: invalid escape sequence '\\S'\n",
      "<>:7: SyntaxWarning: invalid escape sequence '\\]'\n",
      "<>:9: SyntaxWarning: invalid escape sequence '\\s'\n",
      "C:\\Users\\HP\\AppData\\Local\\Temp\\ipykernel_181616\\3739445999.py:3: SyntaxWarning: invalid escape sequence '\\S'\n",
      "  cleanText = re.sub('http\\S+\\s', ' ', txt)\n",
      "C:\\Users\\HP\\AppData\\Local\\Temp\\ipykernel_181616\\3739445999.py:5: SyntaxWarning: invalid escape sequence '\\S'\n",
      "  cleanText = re.sub('#\\S+\\s', ' ', cleanText)\n",
      "C:\\Users\\HP\\AppData\\Local\\Temp\\ipykernel_181616\\3739445999.py:6: SyntaxWarning: invalid escape sequence '\\S'\n",
      "  cleanText = re.sub('@\\S+', '  ', cleanText)\n",
      "C:\\Users\\HP\\AppData\\Local\\Temp\\ipykernel_181616\\3739445999.py:7: SyntaxWarning: invalid escape sequence '\\]'\n",
      "  cleanText = re.sub('[%s]' % re.escape(\"\"\"!\"#$%&'()*+,-./:;<=>?@[\\]^_`{|}~\"\"\"), ' ', cleanText)\n",
      "C:\\Users\\HP\\AppData\\Local\\Temp\\ipykernel_181616\\3739445999.py:9: SyntaxWarning: invalid escape sequence '\\s'\n",
      "  cleanText = re.sub('\\s+', ' ', cleanText)\n"
     ]
    }
   ],
   "source": [
    "import re\n",
    "def cleanResume(txt):\n",
    "    cleanText = re.sub('http\\S+\\s', ' ', txt)\n",
    "    cleanText = re.sub('RT|cc', ' ', cleanText)\n",
    "    cleanText = re.sub('#\\S+\\s', ' ', cleanText)\n",
    "    cleanText = re.sub('@\\S+', '  ', cleanText)  \n",
    "    cleanText = re.sub('[%s]' % re.escape(\"\"\"!\"#$%&'()*+,-./:;<=>?@[\\]^_`{|}~\"\"\"), ' ', cleanText)\n",
    "    cleanText = re.sub(r'[^\\x00-\\x7f]', ' ', cleanText) \n",
    "    cleanText = re.sub('\\s+', ' ', cleanText)\n",
    "    return cleanText"
   ]
  },
  {
   "cell_type": "code",
   "execution_count": 14,
   "id": "6e397117-3fc0-404b-b38f-70a8cb1f9818",
   "metadata": {},
   "outputs": [],
   "source": [
    "df['Resume']=df['Resume'].apply(lambda x:cleanResume(x))"
   ]
  },
  {
   "cell_type": "markdown",
   "id": "a4148bba-88f1-49a0-9e9e-982d709a767e",
   "metadata": {},
   "source": [
    "<h2>Encoding Categories</h2>"
   ]
  },
  {
   "cell_type": "code",
   "execution_count": 15,
   "id": "6725f69b-f710-4ea5-9ba6-9aba3fb6d8a6",
   "metadata": {},
   "outputs": [],
   "source": [
    "from sklearn.preprocessing import LabelEncoder\n",
    "le=LabelEncoder()"
   ]
  },
  {
   "cell_type": "code",
   "execution_count": 16,
   "id": "8530d9dd-ca3e-4902-83a7-c3f85c81dd9e",
   "metadata": {},
   "outputs": [],
   "source": [
    "df['Category']=le.fit_transform(df['Category'])"
   ]
  },
  {
   "cell_type": "code",
   "execution_count": 17,
   "id": "8c308f06-24f3-4c83-bed2-a3e9941e04c7",
   "metadata": {},
   "outputs": [
    {
     "data": {
      "text/plain": [
       "array([ 6, 12,  0,  1, 24, 16, 22, 14,  5, 15,  4, 21,  2, 11, 18, 20,  8,\n",
       "       17, 19,  7, 13, 10,  9,  3, 23])"
      ]
     },
     "execution_count": 17,
     "metadata": {},
     "output_type": "execute_result"
    }
   ],
   "source": [
    "df['Category'].unique()"
   ]
  },
  {
   "cell_type": "code",
   "execution_count": 18,
   "id": "96343009-6bac-451d-9149-e88821494516",
   "metadata": {},
   "outputs": [],
   "source": [
    "df_new=pd.read_csv(\"UpdatedResumeDataSet.csv\")"
   ]
  },
  {
   "cell_type": "code",
   "execution_count": 19,
   "id": "0e8efe5b-8861-46e3-8117-d5fe1990c53c",
   "metadata": {},
   "outputs": [
    {
     "data": {
      "text/plain": [
       "array(['Data Science', 'HR', 'Advocate', 'Arts', 'Web Designing',\n",
       "       'Mechanical Engineer', 'Sales', 'Health and fitness',\n",
       "       'Civil Engineer', 'Java Developer', 'Business Analyst',\n",
       "       'SAP Developer', 'Automation Testing', 'Electrical Engineering',\n",
       "       'Operations Manager', 'Python Developer', 'DevOps Engineer',\n",
       "       'Network Security Engineer', 'PMO', 'Database', 'Hadoop',\n",
       "       'ETL Developer', 'DotNet Developer', 'Blockchain', 'Testing'],\n",
       "      dtype=object)"
      ]
     },
     "execution_count": 19,
     "metadata": {},
     "output_type": "execute_result"
    }
   ],
   "source": [
    "df_new['Category'].unique()"
   ]
  },
  {
   "cell_type": "markdown",
   "id": "765df421-20e2-4bc6-ad3b-b7ed7f6451ed",
   "metadata": {},
   "source": [
    "<h2>Vectorization</h2>"
   ]
  },
  {
   "cell_type": "code",
   "execution_count": 20,
   "id": "84d78fab-4f83-4714-b107-01c672ec99be",
   "metadata": {},
   "outputs": [],
   "source": [
    "from sklearn.feature_extraction.text import TfidfVectorizer\n",
    "tfidf=TfidfVectorizer(stop_words='english')\n",
    "tfidf.fit(df['Resume'])\n",
    "VectorizedResume=tfidf.transform(df['Resume'])"
   ]
  },
  {
   "cell_type": "markdown",
   "id": "923f891e-a193-409f-91ad-b94267bb2ce8",
   "metadata": {},
   "source": [
    "<h2>Train_test_split</h2>"
   ]
  },
  {
   "cell_type": "code",
   "execution_count": 21,
   "id": "cf58ea87-2e4f-4982-acaa-9046c246d67c",
   "metadata": {},
   "outputs": [],
   "source": [
    "from sklearn.model_selection import train_test_split\n",
    "X_train,X_test,Y_train,Y_test=train_test_split(VectorizedResume,df['Category'],test_size=0.2)"
   ]
  },
  {
   "cell_type": "code",
   "execution_count": 22,
   "id": "4da8c372-845b-4d83-bdde-c94f62a5a408",
   "metadata": {},
   "outputs": [
    {
     "data": {
      "text/plain": [
       "(769, 7351)"
      ]
     },
     "execution_count": 22,
     "metadata": {},
     "output_type": "execute_result"
    }
   ],
   "source": [
    "X_train.shape"
   ]
  },
  {
   "cell_type": "markdown",
   "id": "af1e8f45-a71d-448f-9242-392b3fcf4a02",
   "metadata": {},
   "source": [
    "<h2>Model Train</h2>"
   ]
  },
  {
   "cell_type": "code",
   "execution_count": 23,
   "id": "5fe05137-ffa7-4121-a185-22b5a299897e",
   "metadata": {},
   "outputs": [],
   "source": [
    "from sklearn.neighbors import KNeighborsClassifier\n",
    "from sklearn.multiclass import OneVsRestClassifier\n",
    "classifier=OneVsRestClassifier(KNeighborsClassifier())\n",
    "classifier.fit(X_train,Y_train)\n",
    "y_pred=classifier.predict(X_test)\n"
   ]
  },
  {
   "cell_type": "code",
   "execution_count": 24,
   "id": "41e1dfc9-47cc-46a9-9d0f-ee7c9efc3ec0",
   "metadata": {},
   "outputs": [
    {
     "data": {
      "text/plain": [
       "array([ 7, 13, 24, 10,  7, 24, 10, 16,  1, 14, 11, 13,  6, 13, 23, 10, 23,\n",
       "        6, 10, 16, 12, 15,  8, 23,  3,  9,  1, 16, 23, 10,  1, 23, 13, 17,\n",
       "       11, 15, 11, 24, 24, 16, 15, 22,  9,  3,  7, 13,  8,  9, 22, 20,  7,\n",
       "        4, 24,  3, 21, 19, 10, 14, 11, 15,  7, 14,  2, 13,  0, 15, 15, 17,\n",
       "       16, 24,  3,  2,  0,  3,  7, 14, 22,  6, 14, 23,  7, 17, 20, 20, 23,\n",
       "        9,  7, 10,  6,  3, 14,  8, 16, 10, 19, 16, 16, 11,  0, 23, 20,  2,\n",
       "        8, 13, 16, 23, 19, 20,  6, 22, 13,  8, 15,  3,  9,  7, 11, 14,  7,\n",
       "       13, 18,  7, 15,  7, 12, 24, 22,  9,  4,  3, 13,  6, 23, 18,  8, 21,\n",
       "        3,  3, 11, 23, 15,  4, 15,  8,  4, 18, 16, 22, 16, 23,  4, 13, 13,\n",
       "       15, 15, 17,  7, 24, 14,  8, 13,  8,  3,  5,  6, 20, 12, 15, 18, 22,\n",
       "        7,  8, 23, 20,  7, 22,  4, 14, 17, 21, 23,  1, 23, 14, 22,  3,  4,\n",
       "        3,  5, 23, 23, 24, 20])"
      ]
     },
     "execution_count": 24,
     "metadata": {},
     "output_type": "execute_result"
    }
   ],
   "source": [
    "y_pred"
   ]
  },
  {
   "cell_type": "code",
   "execution_count": 25,
   "id": "4294fd6b-c80f-41f0-a9d0-017977a76750",
   "metadata": {},
   "outputs": [
    {
     "name": "stdout",
     "output_type": "stream",
     "text": [
      "1.0\n"
     ]
    }
   ],
   "source": [
    "from sklearn.metrics import accuracy_score\n",
    "print(accuracy_score(Y_test,y_pred))"
   ]
  },
  {
   "cell_type": "markdown",
   "id": "f0c849f2-bdec-4394-97a5-76dc8fa1f120",
   "metadata": {},
   "source": [
    "<h2>Prediction System</h2>"
   ]
  },
  {
   "cell_type": "code",
   "execution_count": 26,
   "id": "2e6c2ad9-bb47-48fe-85c3-f84db07fc258",
   "metadata": {},
   "outputs": [],
   "source": [
    "import pickle\n",
    "pickle.dump(tfidf,open('tfidf.pkl','wb'))\n",
    "pickle.dump(classifier,open('classifier.pkl','wb'))"
   ]
  },
  {
   "cell_type": "markdown",
   "id": "f5f0be77-7e57-462c-87a0-8ab2971d2ed7",
   "metadata": {},
   "source": [
    "<h2>Using pickle code instead of all the code</h2>"
   ]
  },
  {
   "cell_type": "code",
   "execution_count": 27,
   "id": "3f7e9099-9636-4b2b-b25e-7d7c963a0ed2",
   "metadata": {},
   "outputs": [],
   "source": [
    "import pickle\n",
    "#Loading the trained classifier\n",
    "classifier=pickle.load(open('classifier.pkl','rb'))"
   ]
  },
  {
   "cell_type": "code",
   "execution_count": 28,
   "id": "9a4ca725-8c01-4b0a-aca2-3ea46d158803",
   "metadata": {},
   "outputs": [],
   "source": [
    "myres=\"\"\"KARTIK GOYAL \n",
    "3482/5,Granthi Bagh, Ropar, Punjab | +91-8146329950 | \n",
    "kartikgoyal0904@gmail.com \n",
    "Linkedin profile: https://www.linkedin.com/in/kartikgoyal0904 \n",
    "PROFESSIONAL SUMMARY \n",
    "EAspiring data scientist proficient in Python with good statistical analysis and data visualization skills. Enthusiastic learner committed to mastering new tools and methodologies. Ready to collaborate, contribute, and gain practical experience in data cleaning, modeling, and interpretation. \n",
    "CORE COMPETENCIES \n",
    "\n",
    "Python \n",
    "Machine Learning \n",
    "\n",
    "Mysql Scikit Learn, Numpy and Pandas Tableau Front-end web development \n",
    "PROFESSIONAL EXPERIENCE \n",
    "TIE Chandigarh \n",
    "Management Intern | 15 March, 2023 - 30 April,2023 \n",
    "Oversee and maintain different excel files. \n",
    "Doing marketing and bringing in sponsers. \n",
    "Collaborate with senior management and brainstorming ideas. \n",
    "Design Innovation Centre \n",
    "Data Analyst | 1 June,2023 - 31 July, 2023 \n",
    "Learning and implemeting visualisation tools like tableau. \n",
    "Doing analysis on a healthcare project. \n",
    "EXTRA CURRICULARS \n",
    "Logistics head \n",
    "UIET, Panjab University | 15 Jan,2023-4 March, 2023 \n",
    "Coordinate venue setup, manage vendor contracts, oversee transportation, and ensure smooth execution of all logistical aspects for college fest. \n",
    "Entrepreneurship Development Cell \n",
    "Treasurer | Sep,2023- Present\n",
    "As Treasurer, managed finances, budgeting, and sponsorships for Entrepreneurship Cell. As a member, contributed ideas and supported various initiatives. \n",
    "EDUCATION \n",
    "2021- Present | UIET,Panjab University \n",
    "Bachelor Of Engineering - Information Technology \n",
    "Cgpa-8.48 \n",
    " \"\"\""
   ]
  },
  {
   "cell_type": "code",
   "execution_count": 29,
   "id": "6ca9c5ad-900c-440c-acc0-20f9e65b01f0",
   "metadata": {},
   "outputs": [],
   "source": [
    "cleanred=cleanResume(myres)"
   ]
  },
  {
   "cell_type": "code",
   "execution_count": 30,
   "id": "cb962598-31a0-4dcf-9196-3a8f42a9431d",
   "metadata": {},
   "outputs": [
    {
     "data": {
      "text/plain": [
       "list"
      ]
     },
     "execution_count": 30,
     "metadata": {},
     "output_type": "execute_result"
    }
   ],
   "source": [
    "type([cleanred])"
   ]
  },
  {
   "cell_type": "code",
   "execution_count": 31,
   "id": "9bef8a90-f529-4dcd-b2e3-c0fedd1a6814",
   "metadata": {},
   "outputs": [],
   "source": [
    "inputt=tfidf.transform([cleanred])"
   ]
  },
  {
   "cell_type": "code",
   "execution_count": 32,
   "id": "9e7c53cb-b2ad-4114-9aeb-56bec97757c1",
   "metadata": {},
   "outputs": [],
   "source": [
    "pred=classifier.predict(inputt)"
   ]
  },
  {
   "cell_type": "code",
   "execution_count": 33,
   "id": "609cb6f8-8977-4df2-932c-b54ca2e887ee",
   "metadata": {},
   "outputs": [
    {
     "data": {
      "text/plain": [
       "6"
      ]
     },
     "execution_count": 33,
     "metadata": {},
     "output_type": "execute_result"
    }
   ],
   "source": [
    "pred[0]"
   ]
  },
  {
   "cell_type": "code",
   "execution_count": 34,
   "id": "0f5e2b2b-19c1-4f7e-8214-a8c87a4be2b7",
   "metadata": {},
   "outputs": [],
   "source": [
    "category_pair = {\n",
    "    15: \"Java Developer\",\n",
    "    23: \"Testing\",\n",
    "    8: \"DevOps Engineer\",\n",
    "    20: \"Python Developer\",\n",
    "    24: \"Web Designing\",\n",
    "    12: \"HR\",\n",
    "    13: \"Hadoop\",\n",
    "    3: \"Blockchain\",\n",
    "    10: \"ETL Developer\",\n",
    "    18: \"Operations Manager\",\n",
    "    6: \"Data Science\",\n",
    "    22: \"Sales\",\n",
    "    16: \"Mechanical Engineer\",\n",
    "    1: \"Arts\",\n",
    "    7: \"Database\",\n",
    "    11: \"Electrical Engineering\",\n",
    "    14: \"Health and fitness\",\n",
    "    19: \"PMO\",\n",
    "    4: \"Business Analyst\",\n",
    "    9: \"DotNet Developer\",\n",
    "    2: \"Automation Testing\",\n",
    "    17: \"Network Security Engineer\",\n",
    "    21: \"SAP Developer\",\n",
    "    5: \"Civil Engineer\",\n",
    "    0: \"Advocate\",\n",
    "}"
   ]
  },
  {
   "cell_type": "code",
   "execution_count": 35,
   "id": "131ec569-6736-4733-b498-00a7c41778ed",
   "metadata": {},
   "outputs": [
    {
     "data": {
      "text/plain": [
       "{15: 'Java Developer',\n",
       " 23: 'Testing',\n",
       " 8: 'DevOps Engineer',\n",
       " 20: 'Python Developer',\n",
       " 24: 'Web Designing',\n",
       " 12: 'HR',\n",
       " 13: 'Hadoop',\n",
       " 3: 'Blockchain',\n",
       " 10: 'ETL Developer',\n",
       " 18: 'Operations Manager',\n",
       " 6: 'Data Science',\n",
       " 22: 'Sales',\n",
       " 16: 'Mechanical Engineer',\n",
       " 1: 'Arts',\n",
       " 7: 'Database',\n",
       " 11: 'Electrical Engineering',\n",
       " 14: 'Health and fitness',\n",
       " 19: 'PMO',\n",
       " 4: 'Business Analyst',\n",
       " 9: 'DotNet Developer',\n",
       " 2: 'Automation Testing',\n",
       " 17: 'Network Security Engineer',\n",
       " 21: 'SAP Developer',\n",
       " 5: 'Civil Engineer',\n",
       " 0: 'Advocate'}"
      ]
     },
     "execution_count": 35,
     "metadata": {},
     "output_type": "execute_result"
    }
   ],
   "source": [
    "category_pair"
   ]
  },
  {
   "cell_type": "code",
   "execution_count": 36,
   "id": "52647a74-d98c-42f5-9099-e798fb07438e",
   "metadata": {},
   "outputs": [
    {
     "data": {
      "text/plain": [
       "'Data Science'"
      ]
     },
     "execution_count": 36,
     "metadata": {},
     "output_type": "execute_result"
    }
   ],
   "source": [
    "category_pair.get(pred[0])"
   ]
  },
  {
   "cell_type": "code",
   "execution_count": 37,
   "id": "748d8496-739f-4450-a70f-5417c40ecc3d",
   "metadata": {},
   "outputs": [
    {
     "name": "stdout",
     "output_type": "stream",
     "text": [
      "Collecting streamlit\n",
      "  Downloading streamlit-1.36.0-py2.py3-none-any.whl.metadata (8.5 kB)\n",
      "Collecting altair<6,>=4.0 (from streamlit)\n",
      "  Downloading altair-5.3.0-py3-none-any.whl.metadata (9.2 kB)\n",
      "Collecting blinker<2,>=1.0.0 (from streamlit)\n",
      "  Downloading blinker-1.8.2-py3-none-any.whl.metadata (1.6 kB)\n",
      "Collecting cachetools<6,>=4.0 (from streamlit)\n",
      "  Downloading cachetools-5.3.3-py3-none-any.whl.metadata (5.3 kB)\n",
      "Collecting click<9,>=7.0 (from streamlit)\n",
      "  Downloading click-8.1.7-py3-none-any.whl.metadata (3.0 kB)\n",
      "Requirement already satisfied: numpy<3,>=1.20 in c:\\users\\hp\\appdata\\local\\programs\\python\\python312\\lib\\site-packages (from streamlit) (1.26.4)\n",
      "Requirement already satisfied: packaging<25,>=20 in c:\\users\\hp\\appdata\\local\\programs\\python\\python312\\lib\\site-packages (from streamlit) (24.0)\n",
      "Requirement already satisfied: pandas<3,>=1.3.0 in c:\\users\\hp\\appdata\\local\\programs\\python\\python312\\lib\\site-packages (from streamlit) (2.2.2)\n",
      "Requirement already satisfied: pillow<11,>=7.1.0 in c:\\users\\hp\\appdata\\local\\programs\\python\\python312\\lib\\site-packages (from streamlit) (10.3.0)\n",
      "Collecting protobuf<6,>=3.20 (from streamlit)\n",
      "  Downloading protobuf-5.27.2-cp310-abi3-win_amd64.whl.metadata (592 bytes)\n",
      "Collecting pyarrow>=7.0 (from streamlit)\n",
      "  Downloading pyarrow-16.1.0-cp312-cp312-win_amd64.whl.metadata (3.1 kB)\n",
      "Requirement already satisfied: requests<3,>=2.27 in c:\\users\\hp\\appdata\\local\\programs\\python\\python312\\lib\\site-packages (from streamlit) (2.32.3)\n",
      "Collecting rich<14,>=10.14.0 (from streamlit)\n",
      "  Downloading rich-13.7.1-py3-none-any.whl.metadata (18 kB)\n",
      "Collecting tenacity<9,>=8.1.0 (from streamlit)\n",
      "  Downloading tenacity-8.4.2-py3-none-any.whl.metadata (1.2 kB)\n",
      "Collecting toml<2,>=0.10.1 (from streamlit)\n",
      "  Downloading toml-0.10.2-py2.py3-none-any.whl.metadata (7.1 kB)\n",
      "Requirement already satisfied: typing-extensions<5,>=4.3.0 in c:\\users\\hp\\appdata\\local\\programs\\python\\python312\\lib\\site-packages (from streamlit) (4.12.1)\n",
      "Requirement already satisfied: gitpython!=3.1.19,<4,>=3.0.7 in c:\\users\\hp\\appdata\\local\\programs\\python\\python312\\lib\\site-packages (from streamlit) (3.1.43)\n",
      "Collecting pydeck<1,>=0.8.0b4 (from streamlit)\n",
      "  Downloading pydeck-0.9.1-py2.py3-none-any.whl.metadata (4.1 kB)\n",
      "Requirement already satisfied: tornado<7,>=6.0.3 in c:\\users\\hp\\appdata\\roaming\\python\\python312\\site-packages (from streamlit) (6.4)\n",
      "Collecting watchdog<5,>=2.1.5 (from streamlit)\n",
      "  Downloading watchdog-4.0.1-py3-none-win_amd64.whl.metadata (37 kB)\n",
      "Requirement already satisfied: jinja2 in c:\\users\\hp\\appdata\\local\\programs\\python\\python312\\lib\\site-packages (from altair<6,>=4.0->streamlit) (3.1.4)\n",
      "Collecting jsonschema>=3.0 (from altair<6,>=4.0->streamlit)\n",
      "  Downloading jsonschema-4.22.0-py3-none-any.whl.metadata (8.2 kB)\n",
      "Collecting toolz (from altair<6,>=4.0->streamlit)\n",
      "  Downloading toolz-0.12.1-py3-none-any.whl.metadata (5.1 kB)\n",
      "Requirement already satisfied: colorama in c:\\users\\hp\\appdata\\local\\programs\\python\\python312\\lib\\site-packages (from click<9,>=7.0->streamlit) (0.4.6)\n",
      "Requirement already satisfied: gitdb<5,>=4.0.1 in c:\\users\\hp\\appdata\\local\\programs\\python\\python312\\lib\\site-packages (from gitpython!=3.1.19,<4,>=3.0.7->streamlit) (4.0.11)\n",
      "Requirement already satisfied: python-dateutil>=2.8.2 in c:\\users\\hp\\appdata\\local\\programs\\python\\python312\\lib\\site-packages (from pandas<3,>=1.3.0->streamlit) (2.9.0.post0)\n",
      "Requirement already satisfied: pytz>=2020.1 in c:\\users\\hp\\appdata\\local\\programs\\python\\python312\\lib\\site-packages (from pandas<3,>=1.3.0->streamlit) (2024.1)\n",
      "Requirement already satisfied: tzdata>=2022.7 in c:\\users\\hp\\appdata\\local\\programs\\python\\python312\\lib\\site-packages (from pandas<3,>=1.3.0->streamlit) (2024.1)\n",
      "Requirement already satisfied: charset-normalizer<4,>=2 in c:\\users\\hp\\appdata\\local\\programs\\python\\python312\\lib\\site-packages (from requests<3,>=2.27->streamlit) (3.3.2)\n",
      "Requirement already satisfied: idna<4,>=2.5 in c:\\users\\hp\\appdata\\local\\programs\\python\\python312\\lib\\site-packages (from requests<3,>=2.27->streamlit) (3.7)\n",
      "Requirement already satisfied: urllib3<3,>=1.21.1 in c:\\users\\hp\\appdata\\local\\programs\\python\\python312\\lib\\site-packages (from requests<3,>=2.27->streamlit) (2.2.1)\n",
      "Requirement already satisfied: certifi>=2017.4.17 in c:\\users\\hp\\appdata\\local\\programs\\python\\python312\\lib\\site-packages (from requests<3,>=2.27->streamlit) (2024.6.2)\n",
      "Collecting markdown-it-py>=2.2.0 (from rich<14,>=10.14.0->streamlit)\n",
      "  Downloading markdown_it_py-3.0.0-py3-none-any.whl.metadata (6.9 kB)\n",
      "Requirement already satisfied: pygments<3.0.0,>=2.13.0 in c:\\users\\hp\\appdata\\roaming\\python\\python312\\site-packages (from rich<14,>=10.14.0->streamlit) (2.18.0)\n",
      "Requirement already satisfied: smmap<6,>=3.0.1 in c:\\users\\hp\\appdata\\local\\programs\\python\\python312\\lib\\site-packages (from gitdb<5,>=4.0.1->gitpython!=3.1.19,<4,>=3.0.7->streamlit) (5.0.1)\n",
      "Requirement already satisfied: MarkupSafe>=2.0 in c:\\users\\hp\\appdata\\local\\programs\\python\\python312\\lib\\site-packages (from jinja2->altair<6,>=4.0->streamlit) (2.1.5)\n",
      "Collecting attrs>=22.2.0 (from jsonschema>=3.0->altair<6,>=4.0->streamlit)\n",
      "  Downloading attrs-23.2.0-py3-none-any.whl.metadata (9.5 kB)\n",
      "Collecting jsonschema-specifications>=2023.03.6 (from jsonschema>=3.0->altair<6,>=4.0->streamlit)\n",
      "  Downloading jsonschema_specifications-2023.12.1-py3-none-any.whl.metadata (3.0 kB)\n",
      "Collecting referencing>=0.28.4 (from jsonschema>=3.0->altair<6,>=4.0->streamlit)\n",
      "  Downloading referencing-0.35.1-py3-none-any.whl.metadata (2.8 kB)\n",
      "Collecting rpds-py>=0.7.1 (from jsonschema>=3.0->altair<6,>=4.0->streamlit)\n",
      "  Downloading rpds_py-0.18.1-cp312-none-win_amd64.whl.metadata (4.2 kB)\n",
      "Collecting mdurl~=0.1 (from markdown-it-py>=2.2.0->rich<14,>=10.14.0->streamlit)\n",
      "  Downloading mdurl-0.1.2-py3-none-any.whl.metadata (1.6 kB)\n",
      "Requirement already satisfied: six>=1.5 in c:\\users\\hp\\appdata\\local\\programs\\python\\python312\\lib\\site-packages (from python-dateutil>=2.8.2->pandas<3,>=1.3.0->streamlit) (1.16.0)\n",
      "Downloading streamlit-1.36.0-py2.py3-none-any.whl (8.6 MB)\n",
      "   ---------------------------------------- 0.0/8.6 MB ? eta -:--:--\n",
      "   ---------------------------------------- 0.0/8.6 MB 1.9 MB/s eta 0:00:05\n",
      "    --------------------------------------- 0.2/8.6 MB 2.1 MB/s eta 0:00:05\n",
      "   - -------------------------------------- 0.3/8.6 MB 2.0 MB/s eta 0:00:05\n",
      "   -- ------------------------------------- 0.5/8.6 MB 2.6 MB/s eta 0:00:04\n",
      "   -- ------------------------------------- 0.6/8.6 MB 2.5 MB/s eta 0:00:04\n",
      "   --- ------------------------------------ 0.6/8.6 MB 2.5 MB/s eta 0:00:04\n",
      "   --- ------------------------------------ 0.7/8.6 MB 2.2 MB/s eta 0:00:04\n",
      "   --- ------------------------------------ 0.8/8.6 MB 2.2 MB/s eta 0:00:04\n",
      "   ---- ----------------------------------- 0.9/8.6 MB 2.2 MB/s eta 0:00:04\n",
      "   ---- ----------------------------------- 1.1/8.6 MB 2.4 MB/s eta 0:00:04\n",
      "   ----- ---------------------------------- 1.2/8.6 MB 2.4 MB/s eta 0:00:04\n",
      "   ------ --------------------------------- 1.3/8.6 MB 2.5 MB/s eta 0:00:03\n",
      "   ------ --------------------------------- 1.5/8.6 MB 2.6 MB/s eta 0:00:03\n",
      "   ------- -------------------------------- 1.7/8.6 MB 2.7 MB/s eta 0:00:03\n",
      "   -------- ------------------------------- 1.8/8.6 MB 2.7 MB/s eta 0:00:03\n",
      "   --------- ------------------------------ 1.9/8.6 MB 2.8 MB/s eta 0:00:03\n",
      "   --------- ------------------------------ 2.1/8.6 MB 2.8 MB/s eta 0:00:03\n",
      "   ---------- ----------------------------- 2.3/8.6 MB 2.9 MB/s eta 0:00:03\n",
      "   ----------- ---------------------------- 2.5/8.6 MB 2.9 MB/s eta 0:00:03\n",
      "   ------------ --------------------------- 2.6/8.6 MB 2.9 MB/s eta 0:00:03\n",
      "   ------------- -------------------------- 2.8/8.6 MB 3.0 MB/s eta 0:00:02\n",
      "   -------------- ------------------------- 3.1/8.6 MB 3.1 MB/s eta 0:00:02\n",
      "   --------------- ------------------------ 3.3/8.6 MB 3.2 MB/s eta 0:00:02\n",
      "   ---------------- ----------------------- 3.6/8.6 MB 3.3 MB/s eta 0:00:02\n",
      "   ---------------- ----------------------- 3.6/8.6 MB 3.3 MB/s eta 0:00:02\n",
      "   ---------------- ----------------------- 3.6/8.6 MB 3.3 MB/s eta 0:00:02\n",
      "   ----------------- ---------------------- 3.7/8.6 MB 3.1 MB/s eta 0:00:02\n",
      "   ----------------- ---------------------- 3.8/8.6 MB 3.1 MB/s eta 0:00:02\n",
      "   ------------------ --------------------- 4.1/8.6 MB 3.2 MB/s eta 0:00:02\n",
      "   ------------------- -------------------- 4.2/8.6 MB 3.1 MB/s eta 0:00:02\n",
      "   -------------------- ------------------- 4.3/8.6 MB 3.1 MB/s eta 0:00:02\n",
      "   -------------------- ------------------- 4.4/8.6 MB 3.1 MB/s eta 0:00:02\n",
      "   -------------------- ------------------- 4.4/8.6 MB 3.1 MB/s eta 0:00:02\n",
      "   -------------------- ------------------- 4.4/8.6 MB 3.1 MB/s eta 0:00:02\n",
      "   -------------------- ------------------- 4.4/8.6 MB 3.1 MB/s eta 0:00:02\n",
      "   --------------------- ------------------ 4.5/8.6 MB 2.8 MB/s eta 0:00:02\n",
      "   --------------------- ------------------ 4.6/8.6 MB 2.9 MB/s eta 0:00:02\n",
      "   ---------------------- ----------------- 4.8/8.6 MB 2.9 MB/s eta 0:00:02\n",
      "   ----------------------- ---------------- 5.0/8.6 MB 2.9 MB/s eta 0:00:02\n",
      "   ------------------------ --------------- 5.2/8.6 MB 2.9 MB/s eta 0:00:02\n",
      "   ------------------------- -------------- 5.4/8.6 MB 3.0 MB/s eta 0:00:02\n",
      "   -------------------------- ------------- 5.7/8.6 MB 3.1 MB/s eta 0:00:01\n",
      "   -------------------------- ------------- 5.7/8.6 MB 3.0 MB/s eta 0:00:01\n",
      "   --------------------------- ------------ 5.9/8.6 MB 3.1 MB/s eta 0:00:01\n",
      "   ---------------------------- ----------- 6.2/8.6 MB 3.1 MB/s eta 0:00:01\n",
      "   ----------------------------- ---------- 6.3/8.6 MB 3.1 MB/s eta 0:00:01\n",
      "   ----------------------------- ---------- 6.3/8.6 MB 3.1 MB/s eta 0:00:01\n",
      "   ----------------------------- ---------- 6.4/8.6 MB 3.0 MB/s eta 0:00:01\n",
      "   ------------------------------ --------- 6.5/8.6 MB 3.0 MB/s eta 0:00:01\n",
      "   ------------------------------ --------- 6.6/8.6 MB 3.0 MB/s eta 0:00:01\n",
      "   ------------------------------- -------- 6.7/8.6 MB 3.0 MB/s eta 0:00:01\n",
      "   -------------------------------- ------- 6.9/8.6 MB 3.0 MB/s eta 0:00:01\n",
      "   -------------------------------- ------- 7.1/8.6 MB 3.1 MB/s eta 0:00:01\n",
      "   --------------------------------- ------ 7.2/8.6 MB 3.1 MB/s eta 0:00:01\n",
      "   --------------------------------- ------ 7.3/8.6 MB 3.0 MB/s eta 0:00:01\n",
      "   --------------------------------- ------ 7.3/8.6 MB 3.0 MB/s eta 0:00:01\n",
      "   ---------------------------------- ----- 7.3/8.6 MB 3.0 MB/s eta 0:00:01\n",
      "   ---------------------------------- ----- 7.5/8.6 MB 2.9 MB/s eta 0:00:01\n",
      "   ----------------------------------- ---- 7.6/8.6 MB 3.0 MB/s eta 0:00:01\n",
      "   ----------------------------------- ---- 7.7/8.6 MB 2.9 MB/s eta 0:00:01\n",
      "   ------------------------------------- -- 8.0/8.6 MB 3.0 MB/s eta 0:00:01\n",
      "   ------------------------------------- -- 8.1/8.6 MB 3.0 MB/s eta 0:00:01\n",
      "   -------------------------------------- - 8.2/8.6 MB 3.0 MB/s eta 0:00:01\n",
      "   -------------------------------------- - 8.3/8.6 MB 3.0 MB/s eta 0:00:01\n",
      "   ---------------------------------------  8.6/8.6 MB 3.0 MB/s eta 0:00:01\n",
      "   ---------------------------------------  8.6/8.6 MB 3.0 MB/s eta 0:00:01\n",
      "   ---------------------------------------- 8.6/8.6 MB 3.0 MB/s eta 0:00:00\n",
      "Downloading altair-5.3.0-py3-none-any.whl (857 kB)\n",
      "   ---------------------------------------- 0.0/857.8 kB ? eta -:--:--\n",
      "   ---------- ----------------------------- 235.5/857.8 kB 4.8 MB/s eta 0:00:01\n",
      "   ---------- ----------------------------- 235.5/857.8 kB 4.8 MB/s eta 0:00:01\n",
      "   ---------- ----------------------------- 235.5/857.8 kB 4.8 MB/s eta 0:00:01\n",
      "   ---------- ----------------------------- 235.5/857.8 kB 4.8 MB/s eta 0:00:01\n",
      "   ----------- ---------------------------- 245.8/857.8 kB 1.3 MB/s eta 0:00:01\n",
      "   ---------------- ----------------------- 348.2/857.8 kB 1.2 MB/s eta 0:00:01\n",
      "   ---------------- ----------------------- 358.4/857.8 kB 1.2 MB/s eta 0:00:01\n",
      "   ------------------- -------------------- 409.6/857.8 kB 1.1 MB/s eta 0:00:01\n",
      "   ------------------- -------------------- 409.6/857.8 kB 1.1 MB/s eta 0:00:01\n",
      "   ------------------- -------------------- 409.6/857.8 kB 1.1 MB/s eta 0:00:01\n",
      "   ------------------- -------------------- 409.6/857.8 kB 1.1 MB/s eta 0:00:01\n",
      "   ------------------- -------------------- 409.6/857.8 kB 1.1 MB/s eta 0:00:01\n",
      "   ------------------------ ------------- 553.0/857.8 kB 964.0 kB/s eta 0:00:01\n",
      "   ------------------------------- -------- 665.6/857.8 kB 1.1 MB/s eta 0:00:01\n",
      "   ------------------------------- -------- 665.6/857.8 kB 1.1 MB/s eta 0:00:01\n",
      "   ------------------------------- -------- 665.6/857.8 kB 1.1 MB/s eta 0:00:01\n",
      "   ------------------------------- -------- 665.6/857.8 kB 1.1 MB/s eta 0:00:01\n",
      "   ------------------------------- -------- 665.6/857.8 kB 1.1 MB/s eta 0:00:01\n",
      "   ------------------------------- -------- 665.6/857.8 kB 1.1 MB/s eta 0:00:01\n",
      "   ------------------------------ ------- 696.3/857.8 kB 797.8 kB/s eta 0:00:01\n",
      "   ------------------------------ ------- 696.3/857.8 kB 797.8 kB/s eta 0:00:01\n",
      "   ------------------------------ ------- 696.3/857.8 kB 797.8 kB/s eta 0:00:01\n",
      "   ------------------------------ ------- 696.3/857.8 kB 797.8 kB/s eta 0:00:01\n",
      "   ------------------------------ ------- 696.3/857.8 kB 797.8 kB/s eta 0:00:01\n",
      "   ------------------------------ ------- 696.3/857.8 kB 797.8 kB/s eta 0:00:01\n",
      "   ------------------------------ ------- 696.3/857.8 kB 797.8 kB/s eta 0:00:01\n",
      "   ---------------------------------- --- 778.2/857.8 kB 655.3 kB/s eta 0:00:01\n",
      "   -------------------------------------  839.7/857.8 kB 671.6 kB/s eta 0:00:01\n",
      "   -------------------------------------- 857.8/857.8 kB 678.1 kB/s eta 0:00:00\n",
      "Downloading blinker-1.8.2-py3-none-any.whl (9.5 kB)\n",
      "Downloading cachetools-5.3.3-py3-none-any.whl (9.3 kB)\n",
      "Downloading click-8.1.7-py3-none-any.whl (97 kB)\n",
      "   ---------------------------------------- 0.0/97.9 kB ? eta -:--:--\n",
      "   --------------------------------- ------ 81.9/97.9 kB ? eta -:--:--\n",
      "   --------------------------------- ------ 81.9/97.9 kB ? eta -:--:--\n",
      "   --------------------------------- ------ 81.9/97.9 kB ? eta -:--:--\n",
      "   --------------------------------- ------ 81.9/97.9 kB ? eta -:--:--\n",
      "   --------------------------------- ------ 81.9/97.9 kB ? eta -:--:--\n",
      "   --------------------------------- ------ 81.9/97.9 kB ? eta -:--:--\n",
      "   ---------------------------------------- 97.9/97.9 kB 312.1 kB/s eta 0:00:00\n",
      "Downloading protobuf-5.27.2-cp310-abi3-win_amd64.whl (426 kB)\n",
      "   ---------------------------------------- 0.0/426.9 kB ? eta -:--:--\n",
      "    --------------------------------------- 10.2/426.9 kB ? eta -:--:--\n",
      "   ----- --------------------------------- 61.4/426.9 kB 825.8 kB/s eta 0:00:01\n",
      "   -------- ------------------------------ 92.2/426.9 kB 751.6 kB/s eta 0:00:01\n",
      "   ---------- --------------------------- 112.6/426.9 kB 819.2 kB/s eta 0:00:01\n",
      "   ---------- --------------------------- 112.6/426.9 kB 819.2 kB/s eta 0:00:01\n",
      "   ----------------- -------------------- 194.6/426.9 kB 737.3 kB/s eta 0:00:01\n",
      "   ------------------ ------------------- 204.8/426.9 kB 731.4 kB/s eta 0:00:01\n",
      "   -------------------- ----------------- 225.3/426.9 kB 724.0 kB/s eta 0:00:01\n",
      "   -------------------- ----------------- 225.3/426.9 kB 724.0 kB/s eta 0:00:01\n",
      "   ------------------------ ------------- 276.5/426.9 kB 630.9 kB/s eta 0:00:01\n",
      "   --------------------------- ---------- 307.2/426.9 kB 655.5 kB/s eta 0:00:01\n",
      "   --------------------------- ---------- 307.2/426.9 kB 655.5 kB/s eta 0:00:01\n",
      "   -------------------------------- ----- 368.6/426.9 kB 637.7 kB/s eta 0:00:01\n",
      "   ---------------------------------- --- 389.1/426.9 kB 655.5 kB/s eta 0:00:01\n",
      "   ---------------------------------- --- 389.1/426.9 kB 655.5 kB/s eta 0:00:01\n",
      "   ---------------------------------- --- 389.1/426.9 kB 655.5 kB/s eta 0:00:01\n",
      "   ---------------------------------- --- 389.1/426.9 kB 655.5 kB/s eta 0:00:01\n",
      "   ---------------------------------- --- 389.1/426.9 kB 655.5 kB/s eta 0:00:01\n",
      "   ---------------------------------- --- 389.1/426.9 kB 655.5 kB/s eta 0:00:01\n",
      "   ---------------------------------- --- 389.1/426.9 kB 655.5 kB/s eta 0:00:01\n",
      "   ---------------------------------- --- 389.1/426.9 kB 655.5 kB/s eta 0:00:01\n",
      "   ------------------------------------ - 409.6/426.9 kB 412.1 kB/s eta 0:00:01\n",
      "   -------------------------------------- 426.9/426.9 kB 430.0 kB/s eta 0:00:00\n",
      "Downloading pyarrow-16.1.0-cp312-cp312-win_amd64.whl (25.8 MB)\n",
      "   ---------------------------------------- 0.0/25.8 MB ? eta -:--:--\n",
      "   ---------------------------------------- 0.0/25.8 MB ? eta -:--:--\n",
      "   ---------------------------------------- 0.0/25.8 MB ? eta -:--:--\n",
      "   ---------------------------------------- 0.0/25.8 MB ? eta -:--:--\n",
      "   ---------------------------------------- 0.1/25.8 MB 595.3 kB/s eta 0:00:44\n",
      "   ---------------------------------------- 0.1/25.8 MB 708.1 kB/s eta 0:00:37\n",
      "   ---------------------------------------- 0.1/25.8 MB 708.1 kB/s eta 0:00:37\n",
      "   ---------------------------------------- 0.1/25.8 MB 708.1 kB/s eta 0:00:37\n",
      "   ---------------------------------------- 0.1/25.8 MB 708.1 kB/s eta 0:00:37\n",
      "   ---------------------------------------- 0.1/25.8 MB 708.1 kB/s eta 0:00:37\n",
      "   ---------------------------------------- 0.2/25.8 MB 436.8 kB/s eta 0:00:59\n",
      "   ---------------------------------------- 0.2/25.8 MB 436.8 kB/s eta 0:00:59\n",
      "   ---------------------------------------- 0.2/25.8 MB 436.8 kB/s eta 0:00:59\n",
      "   ---------------------------------------- 0.2/25.8 MB 436.8 kB/s eta 0:00:59\n",
      "   ---------------------------------------- 0.2/25.8 MB 372.0 kB/s eta 0:01:09\n",
      "   ---------------------------------------- 0.3/25.8 MB 413.7 kB/s eta 0:01:02\n",
      "   ---------------------------------------- 0.3/25.8 MB 413.7 kB/s eta 0:01:02\n",
      "    --------------------------------------- 0.4/25.8 MB 495.2 kB/s eta 0:00:52\n",
      "    --------------------------------------- 0.4/25.8 MB 509.8 kB/s eta 0:00:50\n",
      "    --------------------------------------- 0.5/25.8 MB 552.5 kB/s eta 0:00:46\n",
      "    --------------------------------------- 0.5/25.8 MB 552.5 kB/s eta 0:00:46\n",
      "    --------------------------------------- 0.5/25.8 MB 552.5 kB/s eta 0:00:46\n",
      "    --------------------------------------- 0.5/25.8 MB 552.5 kB/s eta 0:00:46\n",
      "    --------------------------------------- 0.5/25.8 MB 552.5 kB/s eta 0:00:46\n",
      "    --------------------------------------- 0.5/25.8 MB 552.5 kB/s eta 0:00:46\n",
      "    --------------------------------------- 0.5/25.8 MB 552.5 kB/s eta 0:00:46\n",
      "    --------------------------------------- 0.5/25.8 MB 552.5 kB/s eta 0:00:46\n",
      "    --------------------------------------- 0.5/25.8 MB 552.5 kB/s eta 0:00:46\n",
      "    --------------------------------------- 0.5/25.8 MB 416.3 kB/s eta 0:01:01\n",
      "    --------------------------------------- 0.5/25.8 MB 431.0 kB/s eta 0:00:59\n",
      "    --------------------------------------- 0.5/25.8 MB 423.2 kB/s eta 0:01:00\n",
      "    --------------------------------------- 0.6/25.8 MB 423.7 kB/s eta 0:01:00\n",
      "    --------------------------------------- 0.6/25.8 MB 423.7 kB/s eta 0:01:00\n",
      "    --------------------------------------- 0.6/25.8 MB 424.5 kB/s eta 0:01:00\n",
      "    --------------------------------------- 0.6/25.8 MB 424.5 kB/s eta 0:01:00\n",
      "    --------------------------------------- 0.6/25.8 MB 411.3 kB/s eta 0:01:02\n",
      "   - -------------------------------------- 0.7/25.8 MB 432.3 kB/s eta 0:00:59\n",
      "   - -------------------------------------- 0.7/25.8 MB 434.7 kB/s eta 0:00:58\n",
      "   - -------------------------------------- 0.7/25.8 MB 430.4 kB/s eta 0:00:59\n",
      "   - -------------------------------------- 0.7/25.8 MB 430.4 kB/s eta 0:00:59\n",
      "   - -------------------------------------- 0.7/25.8 MB 408.9 kB/s eta 0:01:02\n",
      "   - -------------------------------------- 0.7/25.8 MB 428.9 kB/s eta 0:00:59\n",
      "   - -------------------------------------- 0.7/25.8 MB 428.9 kB/s eta 0:00:59\n",
      "   - -------------------------------------- 0.8/25.8 MB 429.3 kB/s eta 0:00:59\n",
      "   - -------------------------------------- 0.8/25.8 MB 433.1 kB/s eta 0:00:58\n",
      "   - -------------------------------------- 0.9/25.8 MB 451.3 kB/s eta 0:00:56\n",
      "   - -------------------------------------- 1.0/25.8 MB 503.3 kB/s eta 0:00:50\n",
      "   - -------------------------------------- 1.2/25.8 MB 609.3 kB/s eta 0:00:41\n",
      "   -- ------------------------------------- 1.5/25.8 MB 735.4 kB/s eta 0:00:34\n",
      "   -- ------------------------------------- 1.7/25.8 MB 797.1 kB/s eta 0:00:31\n",
      "   -- ------------------------------------- 1.8/25.8 MB 832.2 kB/s eta 0:00:29\n",
      "   --- ------------------------------------ 2.0/25.8 MB 924.1 kB/s eta 0:00:26\n",
      "   --- ------------------------------------ 2.2/25.8 MB 992.2 kB/s eta 0:00:24\n",
      "   --- ------------------------------------ 2.4/25.8 MB 1.0 MB/s eta 0:00:23\n",
      "   --- ------------------------------------ 2.5/25.8 MB 1.1 MB/s eta 0:00:22\n",
      "   ---- ----------------------------------- 2.8/25.8 MB 1.2 MB/s eta 0:00:20\n",
      "   ---- ----------------------------------- 2.9/25.8 MB 1.2 MB/s eta 0:00:20\n",
      "   ---- ----------------------------------- 3.0/25.8 MB 1.3 MB/s eta 0:00:19\n",
      "   ----- ---------------------------------- 3.3/25.8 MB 1.3 MB/s eta 0:00:18\n",
      "   ----- ---------------------------------- 3.5/25.8 MB 1.4 MB/s eta 0:00:17\n",
      "   ----- ---------------------------------- 3.6/25.8 MB 1.4 MB/s eta 0:00:16\n",
      "   ----- ---------------------------------- 3.8/25.8 MB 1.4 MB/s eta 0:00:16\n",
      "   ----- ---------------------------------- 3.9/25.8 MB 1.4 MB/s eta 0:00:16\n",
      "   ------ --------------------------------- 4.0/25.8 MB 1.5 MB/s eta 0:00:15\n",
      "   ------ --------------------------------- 4.2/25.8 MB 1.5 MB/s eta 0:00:15\n",
      "   ------ --------------------------------- 4.4/25.8 MB 1.6 MB/s eta 0:00:14\n",
      "   ------ --------------------------------- 4.5/25.8 MB 1.6 MB/s eta 0:00:14\n",
      "   ------- -------------------------------- 4.6/25.8 MB 1.6 MB/s eta 0:00:14\n",
      "   ------- -------------------------------- 4.8/25.8 MB 1.7 MB/s eta 0:00:13\n",
      "   ------- -------------------------------- 4.9/25.8 MB 1.7 MB/s eta 0:00:13\n",
      "   ------- -------------------------------- 5.1/25.8 MB 1.7 MB/s eta 0:00:13\n",
      "   ------- -------------------------------- 5.2/25.8 MB 1.7 MB/s eta 0:00:13\n",
      "   -------- ------------------------------- 5.3/25.8 MB 1.7 MB/s eta 0:00:12\n",
      "   -------- ------------------------------- 5.4/25.8 MB 1.7 MB/s eta 0:00:12\n",
      "   -------- ------------------------------- 5.6/25.8 MB 1.8 MB/s eta 0:00:12\n",
      "   --------- ------------------------------ 5.8/25.8 MB 1.8 MB/s eta 0:00:12\n",
      "   --------- ------------------------------ 6.1/25.8 MB 1.9 MB/s eta 0:00:11\n",
      "   --------- ------------------------------ 6.1/25.8 MB 1.9 MB/s eta 0:00:11\n",
      "   --------- ------------------------------ 6.3/25.8 MB 1.9 MB/s eta 0:00:11\n",
      "   ---------- ----------------------------- 6.6/25.8 MB 1.9 MB/s eta 0:00:10\n",
      "   ---------- ----------------------------- 6.8/25.8 MB 2.0 MB/s eta 0:00:10\n",
      "   ---------- ----------------------------- 7.0/25.8 MB 2.0 MB/s eta 0:00:10\n",
      "   ----------- ---------------------------- 7.1/25.8 MB 2.0 MB/s eta 0:00:10\n",
      "   ----------- ---------------------------- 7.3/25.8 MB 2.0 MB/s eta 0:00:10\n",
      "   ----------- ---------------------------- 7.5/25.8 MB 2.1 MB/s eta 0:00:09\n",
      "   ----------- ---------------------------- 7.7/25.8 MB 2.1 MB/s eta 0:00:09\n",
      "   ------------ --------------------------- 7.9/25.8 MB 2.1 MB/s eta 0:00:09\n",
      "   ------------ --------------------------- 8.0/25.8 MB 2.1 MB/s eta 0:00:09\n",
      "   ------------ --------------------------- 8.1/25.8 MB 2.1 MB/s eta 0:00:09\n",
      "   ------------ --------------------------- 8.4/25.8 MB 2.2 MB/s eta 0:00:08\n",
      "   ------------- -------------------------- 8.6/25.8 MB 2.2 MB/s eta 0:00:08\n",
      "   ------------- -------------------------- 8.7/25.8 MB 2.2 MB/s eta 0:00:08\n",
      "   ------------- -------------------------- 8.9/25.8 MB 2.3 MB/s eta 0:00:08\n",
      "   ------------- -------------------------- 9.0/25.8 MB 2.3 MB/s eta 0:00:08\n",
      "   -------------- ------------------------- 9.1/25.8 MB 2.3 MB/s eta 0:00:08\n",
      "   -------------- ------------------------- 9.4/25.8 MB 2.3 MB/s eta 0:00:08\n",
      "   -------------- ------------------------- 9.6/25.8 MB 2.3 MB/s eta 0:00:07\n",
      "   --------------- ------------------------ 9.7/25.8 MB 2.3 MB/s eta 0:00:07\n",
      "   --------------- ------------------------ 10.0/25.8 MB 2.4 MB/s eta 0:00:07\n",
      "   --------------- ------------------------ 10.1/25.8 MB 2.4 MB/s eta 0:00:07\n",
      "   ---------------- ----------------------- 10.4/25.8 MB 2.6 MB/s eta 0:00:06\n",
      "   ---------------- ----------------------- 10.6/25.8 MB 2.8 MB/s eta 0:00:06\n",
      "   ---------------- ----------------------- 10.9/25.8 MB 3.6 MB/s eta 0:00:05\n",
      "   ----------------- ---------------------- 11.0/25.8 MB 4.0 MB/s eta 0:00:04\n",
      "   ----------------- ---------------------- 11.2/25.8 MB 4.0 MB/s eta 0:00:04\n",
      "   ----------------- ---------------------- 11.4/25.8 MB 4.0 MB/s eta 0:00:04\n",
      "   ----------------- ---------------------- 11.4/25.8 MB 4.0 MB/s eta 0:00:04\n",
      "   ----------------- ---------------------- 11.6/25.8 MB 4.0 MB/s eta 0:00:04\n",
      "   ------------------ --------------------- 11.8/25.8 MB 4.0 MB/s eta 0:00:04\n",
      "   ------------------ --------------------- 12.0/25.8 MB 4.0 MB/s eta 0:00:04\n",
      "   ------------------ --------------------- 12.1/25.8 MB 4.0 MB/s eta 0:00:04\n",
      "   ------------------- -------------------- 12.3/25.8 MB 4.0 MB/s eta 0:00:04\n",
      "   ------------------- -------------------- 12.6/25.8 MB 4.0 MB/s eta 0:00:04\n",
      "   ------------------- -------------------- 12.7/25.8 MB 4.0 MB/s eta 0:00:04\n",
      "   ------------------- -------------------- 12.9/25.8 MB 4.0 MB/s eta 0:00:04\n",
      "   -------------------- ------------------- 13.1/25.8 MB 4.0 MB/s eta 0:00:04\n",
      "   -------------------- ------------------- 13.2/25.8 MB 4.0 MB/s eta 0:00:04\n",
      "   -------------------- ------------------- 13.3/25.8 MB 4.0 MB/s eta 0:00:04\n",
      "   -------------------- ------------------- 13.4/25.8 MB 4.0 MB/s eta 0:00:04\n",
      "   --------------------- ------------------ 13.6/25.8 MB 3.9 MB/s eta 0:00:04\n",
      "   --------------------- ------------------ 13.9/25.8 MB 3.9 MB/s eta 0:00:04\n",
      "   --------------------- ------------------ 14.0/25.8 MB 4.0 MB/s eta 0:00:03\n",
      "   ---------------------- ----------------- 14.3/25.8 MB 4.0 MB/s eta 0:00:03\n",
      "   ---------------------- ----------------- 14.4/25.8 MB 4.0 MB/s eta 0:00:03\n",
      "   ---------------------- ----------------- 14.7/25.8 MB 4.0 MB/s eta 0:00:03\n",
      "   ----------------------- ---------------- 14.9/25.8 MB 4.0 MB/s eta 0:00:03\n",
      "   ----------------------- ---------------- 15.0/25.8 MB 4.0 MB/s eta 0:00:03\n",
      "   ----------------------- ---------------- 15.2/25.8 MB 4.1 MB/s eta 0:00:03\n",
      "   ----------------------- ---------------- 15.3/25.8 MB 4.0 MB/s eta 0:00:03\n",
      "   ----------------------- ---------------- 15.4/25.8 MB 4.1 MB/s eta 0:00:03\n",
      "   ------------------------ --------------- 15.5/25.8 MB 4.0 MB/s eta 0:00:03\n",
      "   ------------------------ --------------- 15.7/25.8 MB 4.0 MB/s eta 0:00:03\n",
      "   ------------------------ --------------- 15.9/25.8 MB 4.0 MB/s eta 0:00:03\n",
      "   ------------------------ --------------- 16.1/25.8 MB 4.0 MB/s eta 0:00:03\n",
      "   ------------------------- -------------- 16.4/25.8 MB 4.0 MB/s eta 0:00:03\n",
      "   ------------------------- -------------- 16.6/25.8 MB 4.1 MB/s eta 0:00:03\n",
      "   ------------------------- -------------- 16.8/25.8 MB 4.1 MB/s eta 0:00:03\n",
      "   -------------------------- ------------- 16.9/25.8 MB 4.0 MB/s eta 0:00:03\n",
      "   -------------------------- ------------- 17.2/25.8 MB 4.1 MB/s eta 0:00:03\n",
      "   -------------------------- ------------- 17.2/25.8 MB 4.0 MB/s eta 0:00:03\n",
      "   -------------------------- ------------- 17.4/25.8 MB 4.0 MB/s eta 0:00:03\n",
      "   --------------------------- ------------ 17.5/25.8 MB 4.0 MB/s eta 0:00:03\n",
      "   --------------------------- ------------ 17.8/25.8 MB 4.0 MB/s eta 0:00:03\n",
      "   --------------------------- ------------ 18.0/25.8 MB 4.0 MB/s eta 0:00:02\n",
      "   ---------------------------- ----------- 18.1/25.8 MB 4.0 MB/s eta 0:00:02\n",
      "   ---------------------------- ----------- 18.2/25.8 MB 4.0 MB/s eta 0:00:02\n",
      "   ---------------------------- ----------- 18.3/25.8 MB 4.0 MB/s eta 0:00:02\n",
      "   ---------------------------- ----------- 18.5/25.8 MB 3.9 MB/s eta 0:00:02\n",
      "   ---------------------------- ----------- 18.7/25.8 MB 3.9 MB/s eta 0:00:02\n",
      "   ----------------------------- ---------- 18.8/25.8 MB 3.9 MB/s eta 0:00:02\n",
      "   ----------------------------- ---------- 19.0/25.8 MB 3.9 MB/s eta 0:00:02\n",
      "   ----------------------------- ---------- 19.3/25.8 MB 3.9 MB/s eta 0:00:02\n",
      "   ------------------------------ --------- 19.4/25.8 MB 4.0 MB/s eta 0:00:02\n",
      "   ------------------------------ --------- 19.6/25.8 MB 3.9 MB/s eta 0:00:02\n",
      "   ------------------------------ --------- 19.8/25.8 MB 3.9 MB/s eta 0:00:02\n",
      "   ------------------------------ --------- 20.0/25.8 MB 3.9 MB/s eta 0:00:02\n",
      "   ------------------------------- -------- 20.2/25.8 MB 3.9 MB/s eta 0:00:02\n",
      "   ------------------------------- -------- 20.3/25.8 MB 3.9 MB/s eta 0:00:02\n",
      "   ------------------------------- -------- 20.5/25.8 MB 3.9 MB/s eta 0:00:02\n",
      "   -------------------------------- ------- 20.7/25.8 MB 3.9 MB/s eta 0:00:02\n",
      "   -------------------------------- ------- 20.9/25.8 MB 3.9 MB/s eta 0:00:02\n",
      "   -------------------------------- ------- 21.0/25.8 MB 3.9 MB/s eta 0:00:02\n",
      "   --------------------------------- ------ 21.3/25.8 MB 3.9 MB/s eta 0:00:02\n",
      "   --------------------------------- ------ 21.6/25.8 MB 3.9 MB/s eta 0:00:02\n",
      "   --------------------------------- ------ 21.8/25.8 MB 3.9 MB/s eta 0:00:02\n",
      "   ---------------------------------- ----- 22.1/25.8 MB 4.0 MB/s eta 0:00:01\n",
      "   ---------------------------------- ----- 22.4/25.8 MB 4.0 MB/s eta 0:00:01\n",
      "   ----------------------------------- ---- 22.8/25.8 MB 4.1 MB/s eta 0:00:01\n",
      "   ----------------------------------- ---- 22.9/25.8 MB 4.1 MB/s eta 0:00:01\n",
      "   ----------------------------------- ---- 23.1/25.8 MB 4.1 MB/s eta 0:00:01\n",
      "   ------------------------------------ --- 23.5/25.8 MB 4.1 MB/s eta 0:00:01\n",
      "   ------------------------------------ --- 23.7/25.8 MB 4.2 MB/s eta 0:00:01\n",
      "   ------------------------------------ --- 23.9/25.8 MB 4.2 MB/s eta 0:00:01\n",
      "   ------------------------------------- -- 24.1/25.8 MB 4.2 MB/s eta 0:00:01\n",
      "   ------------------------------------- -- 24.5/25.8 MB 4.3 MB/s eta 0:00:01\n",
      "   -------------------------------------- - 24.7/25.8 MB 4.3 MB/s eta 0:00:01\n",
      "   -------------------------------------- - 24.9/25.8 MB 4.3 MB/s eta 0:00:01\n",
      "   -------------------------------------- - 25.2/25.8 MB 4.4 MB/s eta 0:00:01\n",
      "   ---------------------------------------  25.5/25.8 MB 4.4 MB/s eta 0:00:01\n",
      "   ---------------------------------------  25.7/25.8 MB 4.5 MB/s eta 0:00:01\n",
      "   ---------------------------------------  25.8/25.8 MB 4.6 MB/s eta 0:00:01\n",
      "   ---------------------------------------- 25.8/25.8 MB 4.5 MB/s eta 0:00:00\n",
      "Downloading pydeck-0.9.1-py2.py3-none-any.whl (6.9 MB)\n",
      "   ---------------------------------------- 0.0/6.9 MB ? eta -:--:--\n",
      "   - -------------------------------------- 0.3/6.9 MB 6.5 MB/s eta 0:00:02\n",
      "   --- ------------------------------------ 0.5/6.9 MB 5.4 MB/s eta 0:00:02\n",
      "   --- ------------------------------------ 0.7/6.9 MB 5.2 MB/s eta 0:00:02\n",
      "   ----- ---------------------------------- 0.9/6.9 MB 5.1 MB/s eta 0:00:02\n",
      "   ------ --------------------------------- 1.2/6.9 MB 5.0 MB/s eta 0:00:02\n",
      "   ------- -------------------------------- 1.3/6.9 MB 4.7 MB/s eta 0:00:02\n",
      "   -------- ------------------------------- 1.5/6.9 MB 4.8 MB/s eta 0:00:02\n",
      "   --------- ------------------------------ 1.6/6.9 MB 4.4 MB/s eta 0:00:02\n",
      "   ----------- ---------------------------- 1.9/6.9 MB 4.5 MB/s eta 0:00:02\n",
      "   ------------- -------------------------- 2.3/6.9 MB 4.9 MB/s eta 0:00:01\n",
      "   -------------- ------------------------- 2.5/6.9 MB 4.8 MB/s eta 0:00:01\n",
      "   ---------------- ----------------------- 2.8/6.9 MB 4.9 MB/s eta 0:00:01\n",
      "   ----------------- ---------------------- 3.0/6.9 MB 5.0 MB/s eta 0:00:01\n",
      "   ------------------- -------------------- 3.3/6.9 MB 5.1 MB/s eta 0:00:01\n",
      "   -------------------- ------------------- 3.6/6.9 MB 5.1 MB/s eta 0:00:01\n",
      "   --------------------- ------------------ 3.8/6.9 MB 5.2 MB/s eta 0:00:01\n",
      "   ----------------------- ---------------- 4.0/6.9 MB 5.3 MB/s eta 0:00:01\n",
      "   ------------------------- -------------- 4.4/6.9 MB 5.3 MB/s eta 0:00:01\n",
      "   -------------------------- ------------- 4.6/6.9 MB 5.3 MB/s eta 0:00:01\n",
      "   --------------------------- ------------ 4.8/6.9 MB 5.3 MB/s eta 0:00:01\n",
      "   ----------------------------- ---------- 5.1/6.9 MB 5.3 MB/s eta 0:00:01\n",
      "   ----------------------------- ---------- 5.2/6.9 MB 5.2 MB/s eta 0:00:01\n",
      "   ------------------------------- -------- 5.5/6.9 MB 5.2 MB/s eta 0:00:01\n",
      "   --------------------------------- ------ 5.7/6.9 MB 5.2 MB/s eta 0:00:01\n",
      "   ---------------------------------- ----- 6.0/6.9 MB 5.3 MB/s eta 0:00:01\n",
      "   ------------------------------------ --- 6.3/6.9 MB 5.3 MB/s eta 0:00:01\n",
      "   -------------------------------------- - 6.6/6.9 MB 5.3 MB/s eta 0:00:01\n",
      "   ---------------------------------------  6.9/6.9 MB 5.4 MB/s eta 0:00:01\n",
      "   ---------------------------------------- 6.9/6.9 MB 5.3 MB/s eta 0:00:00\n",
      "Downloading rich-13.7.1-py3-none-any.whl (240 kB)\n",
      "   ---------------------------------------- 0.0/240.7 kB ? eta -:--:--\n",
      "   ---------------------------------------  235.5/240.7 kB 4.8 MB/s eta 0:00:01\n",
      "   ---------------------------------------- 240.7/240.7 kB 3.7 MB/s eta 0:00:00\n",
      "Downloading tenacity-8.4.2-py3-none-any.whl (28 kB)\n",
      "Downloading toml-0.10.2-py2.py3-none-any.whl (16 kB)\n",
      "Downloading watchdog-4.0.1-py3-none-win_amd64.whl (83 kB)\n",
      "   ---------------------------------------- 0.0/83.0 kB ? eta -:--:--\n",
      "   ---------------------------------------- 83.0/83.0 kB 2.3 MB/s eta 0:00:00\n",
      "Downloading jsonschema-4.22.0-py3-none-any.whl (88 kB)\n",
      "   ---------------------------------------- 0.0/88.3 kB ? eta -:--:--\n",
      "   ------------------------------------- -- 81.9/88.3 kB 2.3 MB/s eta 0:00:01\n",
      "   ---------------------------------------- 88.3/88.3 kB 1.7 MB/s eta 0:00:00\n",
      "Downloading markdown_it_py-3.0.0-py3-none-any.whl (87 kB)\n",
      "   ---------------------------------------- 0.0/87.5 kB ? eta -:--:--\n",
      "   ---------------------------------------- 87.5/87.5 kB 2.5 MB/s eta 0:00:00\n",
      "Downloading toolz-0.12.1-py3-none-any.whl (56 kB)\n",
      "   ---------------------------------------- 0.0/56.1 kB ? eta -:--:--\n",
      "   ---------------------------------------- 56.1/56.1 kB 3.1 MB/s eta 0:00:00\n",
      "Downloading attrs-23.2.0-py3-none-any.whl (60 kB)\n",
      "   ---------------------------------------- 0.0/60.8 kB ? eta -:--:--\n",
      "   ---------------------------------------- 60.8/60.8 kB 1.6 MB/s eta 0:00:00\n",
      "Downloading jsonschema_specifications-2023.12.1-py3-none-any.whl (18 kB)\n",
      "Downloading mdurl-0.1.2-py3-none-any.whl (10.0 kB)\n",
      "Downloading referencing-0.35.1-py3-none-any.whl (26 kB)\n",
      "Downloading rpds_py-0.18.1-cp312-none-win_amd64.whl (209 kB)\n",
      "   ---------------------------------------- 0.0/209.3 kB ? eta -:--:--\n",
      "   ----------------------- ---------------- 122.9/209.3 kB 3.6 MB/s eta 0:00:01\n",
      "   ---------------------------------------- 209.3/209.3 kB 3.2 MB/s eta 0:00:00\n",
      "Installing collected packages: watchdog, toolz, toml, tenacity, rpds-py, pyarrow, protobuf, mdurl, click, cachetools, blinker, attrs, referencing, pydeck, markdown-it-py, rich, jsonschema-specifications, jsonschema, altair, streamlit\n",
      "Successfully installed altair-5.3.0 attrs-23.2.0 blinker-1.8.2 cachetools-5.3.3 click-8.1.7 jsonschema-4.22.0 jsonschema-specifications-2023.12.1 markdown-it-py-3.0.0 mdurl-0.1.2 protobuf-5.27.2 pyarrow-16.1.0 pydeck-0.9.1 referencing-0.35.1 rich-13.7.1 rpds-py-0.18.1 streamlit-1.36.0 tenacity-8.4.2 toml-0.10.2 toolz-0.12.1 watchdog-4.0.1\n",
      "Note: you may need to restart the kernel to use updated packages.\n"
     ]
    },
    {
     "name": "stderr",
     "output_type": "stream",
     "text": [
      "\n",
      "[notice] A new release of pip is available: 24.0 -> 24.1.1\n",
      "[notice] To update, run: python.exe -m pip install --upgrade pip\n"
     ]
    }
   ],
   "source": [
    "pip install streamlit"
   ]
  },
  {
   "cell_type": "code",
   "execution_count": 38,
   "id": "57af0afa-9887-4193-8e06-6e140e8589ce",
   "metadata": {},
   "outputs": [
    {
     "name": "stdout",
     "output_type": "stream",
     "text": [
      "Collecting yfinance\n",
      "  Downloading yfinance-0.2.40-py2.py3-none-any.whl.metadata (11 kB)\n",
      "Requirement already satisfied: pandas>=1.3.0 in c:\\users\\hp\\appdata\\local\\programs\\python\\python312\\lib\\site-packages (from yfinance) (2.2.2)\n",
      "Requirement already satisfied: numpy>=1.16.5 in c:\\users\\hp\\appdata\\local\\programs\\python\\python312\\lib\\site-packages (from yfinance) (1.26.4)\n",
      "Requirement already satisfied: requests>=2.31 in c:\\users\\hp\\appdata\\local\\programs\\python\\python312\\lib\\site-packages (from yfinance) (2.32.3)\n",
      "Collecting multitasking>=0.0.7 (from yfinance)\n",
      "  Downloading multitasking-0.0.11-py3-none-any.whl.metadata (5.5 kB)\n",
      "Collecting lxml>=4.9.1 (from yfinance)\n",
      "  Downloading lxml-5.2.2-cp312-cp312-win_amd64.whl.metadata (3.5 kB)\n",
      "Requirement already satisfied: platformdirs>=2.0.0 in c:\\users\\hp\\appdata\\roaming\\python\\python312\\site-packages (from yfinance) (4.2.2)\n",
      "Requirement already satisfied: pytz>=2022.5 in c:\\users\\hp\\appdata\\local\\programs\\python\\python312\\lib\\site-packages (from yfinance) (2024.1)\n",
      "Collecting frozendict>=2.3.4 (from yfinance)\n",
      "  Downloading frozendict-2.4.4-py312-none-any.whl.metadata (23 kB)\n",
      "Collecting peewee>=3.16.2 (from yfinance)\n",
      "  Downloading peewee-3.17.5.tar.gz (3.0 MB)\n",
      "     ---------------------------------------- 0.0/3.0 MB ? eta -:--:--\n",
      "      --------------------------------------- 0.0/3.0 MB 1.9 MB/s eta 0:00:02\n",
      "     --- ------------------------------------ 0.2/3.0 MB 2.8 MB/s eta 0:00:01\n",
      "     ----- ---------------------------------- 0.4/3.0 MB 3.0 MB/s eta 0:00:01\n",
      "     ------ --------------------------------- 0.5/3.0 MB 3.0 MB/s eta 0:00:01\n",
      "     --------- ------------------------------ 0.7/3.0 MB 3.3 MB/s eta 0:00:01\n",
      "     --------- ------------------------------ 0.7/3.0 MB 3.1 MB/s eta 0:00:01\n",
      "     ----------- ---------------------------- 0.9/3.0 MB 3.2 MB/s eta 0:00:01\n",
      "     -------------- ------------------------- 1.1/3.0 MB 3.2 MB/s eta 0:00:01\n",
      "     -------------- ------------------------- 1.1/3.0 MB 3.3 MB/s eta 0:00:01\n",
      "     ---------------- ----------------------- 1.2/3.0 MB 3.0 MB/s eta 0:00:01\n",
      "     ------------------ --------------------- 1.4/3.0 MB 3.1 MB/s eta 0:00:01\n",
      "     ------------------- -------------------- 1.4/3.0 MB 2.9 MB/s eta 0:00:01\n",
      "     --------------------- ------------------ 1.6/3.0 MB 3.1 MB/s eta 0:00:01\n",
      "     ----------------------- ---------------- 1.7/3.0 MB 3.1 MB/s eta 0:00:01\n",
      "     ----------------------- ---------------- 1.8/3.0 MB 3.0 MB/s eta 0:00:01\n",
      "     ------------------------ --------------- 1.8/3.0 MB 2.8 MB/s eta 0:00:01\n",
      "     --------------------------- ------------ 2.0/3.0 MB 2.8 MB/s eta 0:00:01\n",
      "     ---------------------------- ----------- 2.1/3.0 MB 2.8 MB/s eta 0:00:01\n",
      "     ----------------------------- ---------- 2.2/3.0 MB 2.8 MB/s eta 0:00:01\n",
      "     -------------------------------- ------- 2.4/3.0 MB 2.9 MB/s eta 0:00:01\n",
      "     ---------------------------------- ----- 2.6/3.0 MB 2.9 MB/s eta 0:00:01\n",
      "     -------------------------------------- - 2.8/3.0 MB 3.1 MB/s eta 0:00:01\n",
      "     -------------------------------------- - 2.9/3.0 MB 3.0 MB/s eta 0:00:01\n",
      "     ---------------------------------------- 3.0/3.0 MB 2.9 MB/s eta 0:00:00\n",
      "  Installing build dependencies: started\n",
      "  Installing build dependencies: finished with status 'done'\n",
      "  Getting requirements to build wheel: started\n",
      "  Getting requirements to build wheel: finished with status 'done'\n",
      "  Preparing metadata (pyproject.toml): started\n",
      "  Preparing metadata (pyproject.toml): finished with status 'done'\n",
      "Collecting beautifulsoup4>=4.11.1 (from yfinance)\n",
      "  Downloading beautifulsoup4-4.12.3-py3-none-any.whl.metadata (3.8 kB)\n",
      "Collecting html5lib>=1.1 (from yfinance)\n",
      "  Downloading html5lib-1.1-py2.py3-none-any.whl.metadata (16 kB)\n",
      "Collecting soupsieve>1.2 (from beautifulsoup4>=4.11.1->yfinance)\n",
      "  Downloading soupsieve-2.5-py3-none-any.whl.metadata (4.7 kB)\n",
      "Requirement already satisfied: six>=1.9 in c:\\users\\hp\\appdata\\local\\programs\\python\\python312\\lib\\site-packages (from html5lib>=1.1->yfinance) (1.16.0)\n",
      "Collecting webencodings (from html5lib>=1.1->yfinance)\n",
      "  Downloading webencodings-0.5.1-py2.py3-none-any.whl.metadata (2.1 kB)\n",
      "Requirement already satisfied: python-dateutil>=2.8.2 in c:\\users\\hp\\appdata\\local\\programs\\python\\python312\\lib\\site-packages (from pandas>=1.3.0->yfinance) (2.9.0.post0)\n",
      "Requirement already satisfied: tzdata>=2022.7 in c:\\users\\hp\\appdata\\local\\programs\\python\\python312\\lib\\site-packages (from pandas>=1.3.0->yfinance) (2024.1)\n",
      "Requirement already satisfied: charset-normalizer<4,>=2 in c:\\users\\hp\\appdata\\local\\programs\\python\\python312\\lib\\site-packages (from requests>=2.31->yfinance) (3.3.2)\n",
      "Requirement already satisfied: idna<4,>=2.5 in c:\\users\\hp\\appdata\\local\\programs\\python\\python312\\lib\\site-packages (from requests>=2.31->yfinance) (3.7)\n",
      "Requirement already satisfied: urllib3<3,>=1.21.1 in c:\\users\\hp\\appdata\\local\\programs\\python\\python312\\lib\\site-packages (from requests>=2.31->yfinance) (2.2.1)\n",
      "Requirement already satisfied: certifi>=2017.4.17 in c:\\users\\hp\\appdata\\local\\programs\\python\\python312\\lib\\site-packages (from requests>=2.31->yfinance) (2024.6.2)\n",
      "Downloading yfinance-0.2.40-py2.py3-none-any.whl (73 kB)\n",
      "   ---------------------------------------- 0.0/73.5 kB ? eta -:--:--\n",
      "   ---------------------------------------- 73.5/73.5 kB 4.0 MB/s eta 0:00:00\n",
      "Downloading beautifulsoup4-4.12.3-py3-none-any.whl (147 kB)\n",
      "   ---------------------------------------- 0.0/147.9 kB ? eta -:--:--\n",
      "   -------------------------------------- - 143.4/147.9 kB 4.3 MB/s eta 0:00:01\n",
      "   ---------------------------------------- 147.9/147.9 kB 2.9 MB/s eta 0:00:00\n",
      "Downloading frozendict-2.4.4-py312-none-any.whl (16 kB)\n",
      "Downloading html5lib-1.1-py2.py3-none-any.whl (112 kB)\n",
      "   ---------------------------------------- 0.0/112.2 kB ? eta -:--:--\n",
      "   ---------------------------------------- 112.2/112.2 kB 6.4 MB/s eta 0:00:00\n",
      "Downloading lxml-5.2.2-cp312-cp312-win_amd64.whl (3.8 MB)\n",
      "   ---------------------------------------- 0.0/3.8 MB ? eta -:--:--\n",
      "    --------------------------------------- 0.1/3.8 MB ? eta -:--:--\n",
      "   --- ------------------------------------ 0.4/3.8 MB 4.4 MB/s eta 0:00:01\n",
      "   ----- ---------------------------------- 0.6/3.8 MB 4.4 MB/s eta 0:00:01\n",
      "   ------- -------------------------------- 0.7/3.8 MB 4.1 MB/s eta 0:00:01\n",
      "   ---------- ----------------------------- 1.0/3.8 MB 4.6 MB/s eta 0:00:01\n",
      "   ------------ --------------------------- 1.1/3.8 MB 4.3 MB/s eta 0:00:01\n",
      "   ------------- -------------------------- 1.3/3.8 MB 4.4 MB/s eta 0:00:01\n",
      "   --------------- ------------------------ 1.5/3.8 MB 4.1 MB/s eta 0:00:01\n",
      "   ----------------- ---------------------- 1.6/3.8 MB 4.2 MB/s eta 0:00:01\n",
      "   ------------------ --------------------- 1.7/3.8 MB 4.1 MB/s eta 0:00:01\n",
      "   -------------------- ------------------- 1.9/3.8 MB 3.8 MB/s eta 0:00:01\n",
      "   ---------------------- ----------------- 2.2/3.8 MB 4.1 MB/s eta 0:00:01\n",
      "   ----------------------- ---------------- 2.2/3.8 MB 3.9 MB/s eta 0:00:01\n",
      "   ------------------------ --------------- 2.3/3.8 MB 3.6 MB/s eta 0:00:01\n",
      "   -------------------------- ------------- 2.5/3.8 MB 3.7 MB/s eta 0:00:01\n",
      "   --------------------------- ------------ 2.7/3.8 MB 3.7 MB/s eta 0:00:01\n",
      "   ---------------------------- ----------- 2.7/3.8 MB 3.6 MB/s eta 0:00:01\n",
      "   ------------------------------ --------- 2.9/3.8 MB 3.6 MB/s eta 0:00:01\n",
      "   ------------------------------ --------- 2.9/3.8 MB 3.6 MB/s eta 0:00:01\n",
      "   -------------------------------- ------- 3.1/3.8 MB 3.4 MB/s eta 0:00:01\n",
      "   -------------------------------- ------- 3.1/3.8 MB 3.4 MB/s eta 0:00:01\n",
      "   ---------------------------------- ----- 3.3/3.8 MB 3.3 MB/s eta 0:00:01\n",
      "   ------------------------------------- -- 3.6/3.8 MB 3.4 MB/s eta 0:00:01\n",
      "   ---------------------------------------  3.8/3.8 MB 3.5 MB/s eta 0:00:01\n",
      "   ---------------------------------------- 3.8/3.8 MB 3.4 MB/s eta 0:00:00\n",
      "Downloading multitasking-0.0.11-py3-none-any.whl (8.5 kB)\n",
      "Downloading soupsieve-2.5-py3-none-any.whl (36 kB)\n",
      "Downloading webencodings-0.5.1-py2.py3-none-any.whl (11 kB)\n",
      "Building wheels for collected packages: peewee\n",
      "  Building wheel for peewee (pyproject.toml): started\n",
      "  Building wheel for peewee (pyproject.toml): finished with status 'done'\n",
      "  Created wheel for peewee: filename=peewee-3.17.5-py3-none-any.whl size=138680 sha256=f6eca2767b03cac69472f0b1f7628ab94046c8c41718a5bec13bf86544d00d0a\n",
      "  Stored in directory: c:\\users\\hp\\appdata\\local\\pip\\cache\\wheels\\df\\29\\bd\\2c860b403d4964724adb889d7e1451b2f3e2942603a199279d\n",
      "Successfully built peewee\n",
      "Installing collected packages: webencodings, peewee, multitasking, soupsieve, lxml, html5lib, frozendict, beautifulsoup4, yfinance\n",
      "Successfully installed beautifulsoup4-4.12.3 frozendict-2.4.4 html5lib-1.1 lxml-5.2.2 multitasking-0.0.11 peewee-3.17.5 soupsieve-2.5 webencodings-0.5.1 yfinance-0.2.40\n",
      "Note: you may need to restart the kernel to use updated packages.\n"
     ]
    },
    {
     "name": "stderr",
     "output_type": "stream",
     "text": [
      "\n",
      "[notice] A new release of pip is available: 24.0 -> 24.1.1\n",
      "[notice] To update, run: python.exe -m pip install --upgrade pip\n"
     ]
    }
   ],
   "source": [
    "pip install yfinance"
   ]
  },
  {
   "cell_type": "code",
   "execution_count": 39,
   "id": "d823d421-0144-4464-86b5-b5dd0b39c250",
   "metadata": {},
   "outputs": [],
   "source": [
    "import streamlit as slt"
   ]
  },
  {
   "cell_type": "code",
   "execution_count": 40,
   "id": "6588c282-6235-42de-888d-e3e301335944",
   "metadata": {},
   "outputs": [],
   "source": [
    "import yfinance as yf"
   ]
  }
 ],
 "metadata": {
  "kernelspec": {
   "display_name": "Python 3 (ipykernel)",
   "language": "python",
   "name": "python3"
  },
  "language_info": {
   "codemirror_mode": {
    "name": "ipython",
    "version": 3
   },
   "file_extension": ".py",
   "mimetype": "text/x-python",
   "name": "python",
   "nbconvert_exporter": "python",
   "pygments_lexer": "ipython3",
   "version": "3.11.9"
  }
 },
 "nbformat": 4,
 "nbformat_minor": 5
}
